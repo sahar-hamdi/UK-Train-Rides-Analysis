{
 "cells": [
  {
   "cell_type": "markdown",
   "metadata": {},
   "source": [
    "### **UK Train Rides Dataset** ###\n",
    "\n",
    "**This project aims to analyze railway journey data from January 1st, 2024, to April 30th, 2024. The**\n",
    "\n",
    "**dataset includes crucial information regarding railway card usage, journey status, delay reasons,**\n",
    "\n",
    "**and other relevant details. By comprehensively examining this data, we aim to uncover significant**\n",
    "\n",
    "**insights and patterns to improve railway operations and enhance passenger experience.**\n"
   ]
  },
  {
   "cell_type": "markdown",
   "metadata": {},
   "source": [
    "# **Import Python Libraries** #"
   ]
  },
  {
   "cell_type": "code",
   "execution_count": 3,
   "metadata": {},
   "outputs": [],
   "source": [
    "import pandas as pd\n",
    "import numpy as np\n",
    "import matplotlib.pyplot as plt\n",
    "import seaborn as sns"
   ]
  },
  {
   "cell_type": "markdown",
   "metadata": {},
   "source": [
    "# **Read Dataset using Pandas** #"
   ]
  },
  {
   "cell_type": "code",
   "execution_count": 4,
   "metadata": {},
   "outputs": [],
   "source": [
    "railway_df = pd.read_csv('railway.csv')"
   ]
  },
  {
   "cell_type": "markdown",
   "metadata": {},
   "source": [
    "# **Viewing the Top Rows of a Dataset** #"
   ]
  },
  {
   "cell_type": "markdown",
   "metadata": {},
   "source": [
    "**head()**\n",
    "    \n",
    "        is a Python function used in Pandas to display the top rows of a dataset. It helps us quickly inspect the structure of the data, including all columns and their values"
   ]
  },
  {
   "cell_type": "code",
   "execution_count": 5,
   "metadata": {},
   "outputs": [
    {
     "data": {
      "application/vnd.microsoft.datawrangler.viewer.v0+json": {
       "columns": [
        {
         "name": "index",
         "rawType": "int64",
         "type": "integer"
        },
        {
         "name": "Transaction ID",
         "rawType": "object",
         "type": "string"
        },
        {
         "name": "Date of Purchase",
         "rawType": "object",
         "type": "string"
        },
        {
         "name": "Time of Purchase",
         "rawType": "object",
         "type": "string"
        },
        {
         "name": "Purchase Type",
         "rawType": "object",
         "type": "string"
        },
        {
         "name": "Payment Method",
         "rawType": "object",
         "type": "string"
        },
        {
         "name": "Railcard",
         "rawType": "object",
         "type": "unknown"
        },
        {
         "name": "Ticket Class",
         "rawType": "object",
         "type": "string"
        },
        {
         "name": "Ticket Type",
         "rawType": "object",
         "type": "string"
        },
        {
         "name": "Price",
         "rawType": "int64",
         "type": "integer"
        },
        {
         "name": "Departure Station",
         "rawType": "object",
         "type": "string"
        },
        {
         "name": "Arrival Destination",
         "rawType": "object",
         "type": "string"
        },
        {
         "name": "Date of Journey",
         "rawType": "object",
         "type": "string"
        },
        {
         "name": "Departure Time",
         "rawType": "object",
         "type": "string"
        },
        {
         "name": "Arrival Time",
         "rawType": "object",
         "type": "string"
        },
        {
         "name": "Actual Arrival Time",
         "rawType": "object",
         "type": "string"
        },
        {
         "name": "Journey Status",
         "rawType": "object",
         "type": "string"
        },
        {
         "name": "Reason for Delay",
         "rawType": "object",
         "type": "unknown"
        },
        {
         "name": "Refund Request",
         "rawType": "object",
         "type": "string"
        }
       ],
       "conversionMethod": "pd.DataFrame",
       "ref": "bdedfb32-fa0b-4e78-9caa-a346a696e614",
       "rows": [
        [
         "0",
         "da8a6ba8-b3dc-4677-b176",
         "12/8/2023",
         "12:41:11",
         "Online",
         "Contactless",
         "Adult",
         "Standard",
         "Advance",
         "43",
         "London Paddington",
         "Liverpool Lime Street",
         "1/1/2024",
         "11:00:00",
         "13:30:00",
         "13:30:00",
         "On Time",
         null,
         "No"
        ],
        [
         "1",
         "b0cdd1b0-f214-4197-be53",
         "12/16/2023",
         "11:23:01",
         "Station",
         "Credit Card",
         "Adult",
         "Standard",
         "Advance",
         "23",
         "London Kings Cross",
         "York",
         "1/1/2024",
         "9:45:00",
         "11:35:00",
         "11:40:00",
         "Delayed",
         "Signal Failure",
         "No"
        ],
        [
         "2",
         "f3ba7a96-f713-40d9-9629",
         "12/19/2023",
         "19:51:27",
         "Online",
         "Credit Card",
         null,
         "Standard",
         "Advance",
         "3",
         "Liverpool Lime Street",
         "Manchester Piccadilly",
         "1/2/2024",
         "18:15:00",
         "18:45:00",
         "18:45:00",
         "On Time",
         null,
         "No"
        ],
        [
         "3",
         "b2471f11-4fe7-4c87-8ab4",
         "12/20/2023",
         "23:00:36",
         "Station",
         "Credit Card",
         null,
         "Standard",
         "Advance",
         "13",
         "London Paddington",
         "Reading",
         "1/1/2024",
         "21:30:00",
         "22:30:00",
         "22:30:00",
         "On Time",
         null,
         "No"
        ],
        [
         "4",
         "2be00b45-0762-485e-a7a3",
         "12/27/2023",
         "18:22:56",
         "Online",
         "Contactless",
         null,
         "Standard",
         "Advance",
         "76",
         "Liverpool Lime Street",
         "London Euston",
         "1/1/2024",
         "16:45:00",
         "19:00:00",
         "19:00:00",
         "On Time",
         null,
         "No"
        ]
       ],
       "shape": {
        "columns": 18,
        "rows": 5
       }
      },
      "text/html": [
       "<div>\n",
       "<style scoped>\n",
       "    .dataframe tbody tr th:only-of-type {\n",
       "        vertical-align: middle;\n",
       "    }\n",
       "\n",
       "    .dataframe tbody tr th {\n",
       "        vertical-align: top;\n",
       "    }\n",
       "\n",
       "    .dataframe thead th {\n",
       "        text-align: right;\n",
       "    }\n",
       "</style>\n",
       "<table border=\"1\" class=\"dataframe\">\n",
       "  <thead>\n",
       "    <tr style=\"text-align: right;\">\n",
       "      <th></th>\n",
       "      <th>Transaction ID</th>\n",
       "      <th>Date of Purchase</th>\n",
       "      <th>Time of Purchase</th>\n",
       "      <th>Purchase Type</th>\n",
       "      <th>Payment Method</th>\n",
       "      <th>Railcard</th>\n",
       "      <th>Ticket Class</th>\n",
       "      <th>Ticket Type</th>\n",
       "      <th>Price</th>\n",
       "      <th>Departure Station</th>\n",
       "      <th>Arrival Destination</th>\n",
       "      <th>Date of Journey</th>\n",
       "      <th>Departure Time</th>\n",
       "      <th>Arrival Time</th>\n",
       "      <th>Actual Arrival Time</th>\n",
       "      <th>Journey Status</th>\n",
       "      <th>Reason for Delay</th>\n",
       "      <th>Refund Request</th>\n",
       "    </tr>\n",
       "  </thead>\n",
       "  <tbody>\n",
       "    <tr>\n",
       "      <th>0</th>\n",
       "      <td>da8a6ba8-b3dc-4677-b176</td>\n",
       "      <td>12/8/2023</td>\n",
       "      <td>12:41:11</td>\n",
       "      <td>Online</td>\n",
       "      <td>Contactless</td>\n",
       "      <td>Adult</td>\n",
       "      <td>Standard</td>\n",
       "      <td>Advance</td>\n",
       "      <td>43</td>\n",
       "      <td>London Paddington</td>\n",
       "      <td>Liverpool Lime Street</td>\n",
       "      <td>1/1/2024</td>\n",
       "      <td>11:00:00</td>\n",
       "      <td>13:30:00</td>\n",
       "      <td>13:30:00</td>\n",
       "      <td>On Time</td>\n",
       "      <td>NaN</td>\n",
       "      <td>No</td>\n",
       "    </tr>\n",
       "    <tr>\n",
       "      <th>1</th>\n",
       "      <td>b0cdd1b0-f214-4197-be53</td>\n",
       "      <td>12/16/2023</td>\n",
       "      <td>11:23:01</td>\n",
       "      <td>Station</td>\n",
       "      <td>Credit Card</td>\n",
       "      <td>Adult</td>\n",
       "      <td>Standard</td>\n",
       "      <td>Advance</td>\n",
       "      <td>23</td>\n",
       "      <td>London Kings Cross</td>\n",
       "      <td>York</td>\n",
       "      <td>1/1/2024</td>\n",
       "      <td>9:45:00</td>\n",
       "      <td>11:35:00</td>\n",
       "      <td>11:40:00</td>\n",
       "      <td>Delayed</td>\n",
       "      <td>Signal Failure</td>\n",
       "      <td>No</td>\n",
       "    </tr>\n",
       "    <tr>\n",
       "      <th>2</th>\n",
       "      <td>f3ba7a96-f713-40d9-9629</td>\n",
       "      <td>12/19/2023</td>\n",
       "      <td>19:51:27</td>\n",
       "      <td>Online</td>\n",
       "      <td>Credit Card</td>\n",
       "      <td>NaN</td>\n",
       "      <td>Standard</td>\n",
       "      <td>Advance</td>\n",
       "      <td>3</td>\n",
       "      <td>Liverpool Lime Street</td>\n",
       "      <td>Manchester Piccadilly</td>\n",
       "      <td>1/2/2024</td>\n",
       "      <td>18:15:00</td>\n",
       "      <td>18:45:00</td>\n",
       "      <td>18:45:00</td>\n",
       "      <td>On Time</td>\n",
       "      <td>NaN</td>\n",
       "      <td>No</td>\n",
       "    </tr>\n",
       "    <tr>\n",
       "      <th>3</th>\n",
       "      <td>b2471f11-4fe7-4c87-8ab4</td>\n",
       "      <td>12/20/2023</td>\n",
       "      <td>23:00:36</td>\n",
       "      <td>Station</td>\n",
       "      <td>Credit Card</td>\n",
       "      <td>NaN</td>\n",
       "      <td>Standard</td>\n",
       "      <td>Advance</td>\n",
       "      <td>13</td>\n",
       "      <td>London Paddington</td>\n",
       "      <td>Reading</td>\n",
       "      <td>1/1/2024</td>\n",
       "      <td>21:30:00</td>\n",
       "      <td>22:30:00</td>\n",
       "      <td>22:30:00</td>\n",
       "      <td>On Time</td>\n",
       "      <td>NaN</td>\n",
       "      <td>No</td>\n",
       "    </tr>\n",
       "    <tr>\n",
       "      <th>4</th>\n",
       "      <td>2be00b45-0762-485e-a7a3</td>\n",
       "      <td>12/27/2023</td>\n",
       "      <td>18:22:56</td>\n",
       "      <td>Online</td>\n",
       "      <td>Contactless</td>\n",
       "      <td>NaN</td>\n",
       "      <td>Standard</td>\n",
       "      <td>Advance</td>\n",
       "      <td>76</td>\n",
       "      <td>Liverpool Lime Street</td>\n",
       "      <td>London Euston</td>\n",
       "      <td>1/1/2024</td>\n",
       "      <td>16:45:00</td>\n",
       "      <td>19:00:00</td>\n",
       "      <td>19:00:00</td>\n",
       "      <td>On Time</td>\n",
       "      <td>NaN</td>\n",
       "      <td>No</td>\n",
       "    </tr>\n",
       "  </tbody>\n",
       "</table>\n",
       "</div>"
      ],
      "text/plain": [
       "            Transaction ID Date of Purchase Time of Purchase Purchase Type  \\\n",
       "0  da8a6ba8-b3dc-4677-b176        12/8/2023         12:41:11        Online   \n",
       "1  b0cdd1b0-f214-4197-be53       12/16/2023         11:23:01       Station   \n",
       "2  f3ba7a96-f713-40d9-9629       12/19/2023         19:51:27        Online   \n",
       "3  b2471f11-4fe7-4c87-8ab4       12/20/2023         23:00:36       Station   \n",
       "4  2be00b45-0762-485e-a7a3       12/27/2023         18:22:56        Online   \n",
       "\n",
       "  Payment Method Railcard Ticket Class Ticket Type  Price  \\\n",
       "0    Contactless    Adult     Standard     Advance     43   \n",
       "1    Credit Card    Adult     Standard     Advance     23   \n",
       "2    Credit Card      NaN     Standard     Advance      3   \n",
       "3    Credit Card      NaN     Standard     Advance     13   \n",
       "4    Contactless      NaN     Standard     Advance     76   \n",
       "\n",
       "       Departure Station    Arrival Destination Date of Journey  \\\n",
       "0      London Paddington  Liverpool Lime Street        1/1/2024   \n",
       "1     London Kings Cross                   York        1/1/2024   \n",
       "2  Liverpool Lime Street  Manchester Piccadilly        1/2/2024   \n",
       "3      London Paddington                Reading        1/1/2024   \n",
       "4  Liverpool Lime Street          London Euston        1/1/2024   \n",
       "\n",
       "  Departure Time Arrival Time Actual Arrival Time Journey Status  \\\n",
       "0       11:00:00     13:30:00            13:30:00        On Time   \n",
       "1        9:45:00     11:35:00            11:40:00        Delayed   \n",
       "2       18:15:00     18:45:00            18:45:00        On Time   \n",
       "3       21:30:00     22:30:00            22:30:00        On Time   \n",
       "4       16:45:00     19:00:00            19:00:00        On Time   \n",
       "\n",
       "  Reason for Delay Refund Request  \n",
       "0              NaN             No  \n",
       "1   Signal Failure             No  \n",
       "2              NaN             No  \n",
       "3              NaN             No  \n",
       "4              NaN             No  "
      ]
     },
     "execution_count": 5,
     "metadata": {},
     "output_type": "execute_result"
    }
   ],
   "source": [
    "railway_df.head()"
   ]
  },
  {
   "cell_type": "markdown",
   "metadata": {},
   "source": [
    "**Inspicting the Number of Rows and Columns in a Dataset:**\n",
    "\n",
    "**shape**\n",
    "\n",
    "        is a Python attribute in Pandas that returns the number of rows and columns in a dataset. It helps us understand the dataset's dimensions."
   ]
  },
  {
   "cell_type": "code",
   "execution_count": 6,
   "metadata": {},
   "outputs": [
    {
     "data": {
      "text/plain": [
       "(31653, 18)"
      ]
     },
     "execution_count": 6,
     "metadata": {},
     "output_type": "execute_result"
    }
   ],
   "source": [
    "railway_df.shape"
   ]
  },
  {
   "cell_type": "markdown",
   "metadata": {},
   "source": [
    "# **Data Preparation and Cleaning** #"
   ]
  },
  {
   "cell_type": "markdown",
   "metadata": {},
   "source": [
    "**1. Displaying information about the dataset**\n",
    "\n",
    "**info()**\n",
    "\n",
    "        is a Python function in Pandas that provides a summary of the dataset, including the number of rows and columns, data types of each column, and the count of non-null values."
   ]
  },
  {
   "cell_type": "code",
   "execution_count": 7,
   "metadata": {},
   "outputs": [
    {
     "name": "stdout",
     "output_type": "stream",
     "text": [
      "<class 'pandas.core.frame.DataFrame'>\n",
      "RangeIndex: 31653 entries, 0 to 31652\n",
      "Data columns (total 18 columns):\n",
      " #   Column               Non-Null Count  Dtype \n",
      "---  ------               --------------  ----- \n",
      " 0   Transaction ID       31653 non-null  object\n",
      " 1   Date of Purchase     31653 non-null  object\n",
      " 2   Time of Purchase     31653 non-null  object\n",
      " 3   Purchase Type        31653 non-null  object\n",
      " 4   Payment Method       31653 non-null  object\n",
      " 5   Railcard             10735 non-null  object\n",
      " 6   Ticket Class         31653 non-null  object\n",
      " 7   Ticket Type          31653 non-null  object\n",
      " 8   Price                31653 non-null  int64 \n",
      " 9   Departure Station    31653 non-null  object\n",
      " 10  Arrival Destination  31653 non-null  object\n",
      " 11  Date of Journey      31653 non-null  object\n",
      " 12  Departure Time       31653 non-null  object\n",
      " 13  Arrival Time         31653 non-null  object\n",
      " 14  Actual Arrival Time  29773 non-null  object\n",
      " 15  Journey Status       31653 non-null  object\n",
      " 16  Reason for Delay     4172 non-null   object\n",
      " 17  Refund Request       31653 non-null  object\n",
      "dtypes: int64(1), object(17)\n",
      "memory usage: 4.3+ MB\n"
     ]
    }
   ],
   "source": [
    "railway_df.info()"
   ]
  },
  {
   "cell_type": "markdown",
   "metadata": {},
   "source": [
    "#### **Data Standardization** ####"
   ]
  },
  {
   "cell_type": "markdown",
   "metadata": {},
   "source": [
    "**In this section, we will convert all Date & Time columns to DateTime format instead of keeping them as object (string) types. This step ensures consistency and improves the accuracy of our analysis by allowing proper date-based calculations and comparisons.**\n",
    "\n",
    "**Columns to be Converted:**\n",
    "\n",
    "1. Date of Purchase\n",
    "\n",
    "2. Time of Purchase\n",
    "\n",
    "3. Date of Journey\n",
    "\n",
    "4. Departure Time\n",
    "\n",
    "5. Arrival Time\n",
    "\n",
    "6. Actual Arrival Time\n",
    "\n",
    "\n",
    "**Why is this important?**\n",
    "\n",
    "- Helps in performing time\n",
    "\n",
    "- based operations like filtering, grouping, and calculating time differences.\n",
    "\n",
    "- Avoids errors when analyzing trends and time intervals.\n",
    "\n",
    "- Improves performance in date-related computations."
   ]
  },
  {
   "cell_type": "code",
   "execution_count": 8,
   "metadata": {},
   "outputs": [
    {
     "name": "stderr",
     "output_type": "stream",
     "text": [
      "C:\\Users\\sahar.hamdy\\AppData\\Local\\Temp\\ipykernel_18360\\3436970451.py:3: UserWarning: Could not infer format, so each element will be parsed individually, falling back to `dateutil`. To ensure parsing is consistent and as-expected, please specify a format.\n",
      "  railway_df['Time of Purchase'] = pd.to_datetime(railway_df['Time of Purchase'])\n",
      "C:\\Users\\sahar.hamdy\\AppData\\Local\\Temp\\ipykernel_18360\\3436970451.py:4: UserWarning: Could not infer format, so each element will be parsed individually, falling back to `dateutil`. To ensure parsing is consistent and as-expected, please specify a format.\n",
      "  railway_df['Departure Time'] = pd.to_datetime(railway_df['Departure Time'])\n",
      "C:\\Users\\sahar.hamdy\\AppData\\Local\\Temp\\ipykernel_18360\\3436970451.py:5: UserWarning: Could not infer format, so each element will be parsed individually, falling back to `dateutil`. To ensure parsing is consistent and as-expected, please specify a format.\n",
      "  railway_df['Arrival Time'] = pd.to_datetime(railway_df['Arrival Time'])\n",
      "C:\\Users\\sahar.hamdy\\AppData\\Local\\Temp\\ipykernel_18360\\3436970451.py:6: UserWarning: Could not infer format, so each element will be parsed individually, falling back to `dateutil`. To ensure parsing is consistent and as-expected, please specify a format.\n",
      "  railway_df['Actual Arrival Time'] = pd.to_datetime(railway_df['Actual Arrival Time'])\n"
     ]
    }
   ],
   "source": [
    "railway_df['Date of Purchase'] = pd.to_datetime(railway_df['Date of Purchase'])\n",
    "railway_df['Date of Journey'] = pd.to_datetime(railway_df['Date of Journey'])\n",
    "railway_df['Time of Purchase'] = pd.to_datetime(railway_df['Time of Purchase'])\n",
    "railway_df['Departure Time'] = pd.to_datetime(railway_df['Departure Time'])\n",
    "railway_df['Arrival Time'] = pd.to_datetime(railway_df['Arrival Time'])\n",
    "railway_df['Actual Arrival Time'] = pd.to_datetime(railway_df['Actual Arrival Time'])"
   ]
  },
  {
   "cell_type": "markdown",
   "metadata": {},
   "source": [
    "**After Data Standardization we will :**\n",
    "\n",
    "**- Extract only the date from columns that store full dates.**\n",
    "\n",
    "**- Extract only the time from columns that store timestamps.**"
   ]
  },
  {
   "cell_type": "code",
   "execution_count": 9,
   "metadata": {},
   "outputs": [],
   "source": [
    "railway_df['Date of Purchase'] = railway_df['Date of Purchase'].dt.date  # Extract date\n",
    "railway_df['Date of Journey'] = railway_df['Date of Journey'].dt.date  \n",
    "railway_df['Time of Purchase'] = railway_df['Time of Purchase'].dt.time  # Extract time\n",
    "railway_df['Departure Time'] = railway_df['Departure Time'].dt.time\n",
    "railway_df['Arrival Time'] = railway_df['Arrival Time'].dt.time\n",
    "railway_df['Actual Arrival Time'] = railway_df['Actual Arrival Time'].dt.time"
   ]
  },
  {
   "cell_type": "markdown",
   "metadata": {},
   "source": [
    "#### **Display Information of Data Again to insure from Changes** ####"
   ]
  },
  {
   "cell_type": "code",
   "execution_count": 10,
   "metadata": {},
   "outputs": [
    {
     "name": "stdout",
     "output_type": "stream",
     "text": [
      "<class 'pandas.core.frame.DataFrame'>\n",
      "RangeIndex: 31653 entries, 0 to 31652\n",
      "Data columns (total 18 columns):\n",
      " #   Column               Non-Null Count  Dtype \n",
      "---  ------               --------------  ----- \n",
      " 0   Transaction ID       31653 non-null  object\n",
      " 1   Date of Purchase     31653 non-null  object\n",
      " 2   Time of Purchase     31653 non-null  object\n",
      " 3   Purchase Type        31653 non-null  object\n",
      " 4   Payment Method       31653 non-null  object\n",
      " 5   Railcard             10735 non-null  object\n",
      " 6   Ticket Class         31653 non-null  object\n",
      " 7   Ticket Type          31653 non-null  object\n",
      " 8   Price                31653 non-null  int64 \n",
      " 9   Departure Station    31653 non-null  object\n",
      " 10  Arrival Destination  31653 non-null  object\n",
      " 11  Date of Journey      31653 non-null  object\n",
      " 12  Departure Time       31653 non-null  object\n",
      " 13  Arrival Time         31653 non-null  object\n",
      " 14  Actual Arrival Time  29773 non-null  object\n",
      " 15  Journey Status       31653 non-null  object\n",
      " 16  Reason for Delay     4172 non-null   object\n",
      " 17  Refund Request       31653 non-null  object\n",
      "dtypes: int64(1), object(17)\n",
      "memory usage: 4.3+ MB\n"
     ]
    }
   ],
   "source": [
    "railway_df.info()"
   ]
  },
  {
   "cell_type": "code",
   "execution_count": 11,
   "metadata": {},
   "outputs": [
    {
     "data": {
      "text/plain": [
       "datetime.date"
      ]
     },
     "execution_count": 11,
     "metadata": {},
     "output_type": "execute_result"
    }
   ],
   "source": [
    "type(railway_df['Date of Purchase'][0])"
   ]
  },
  {
   "cell_type": "code",
   "execution_count": 12,
   "metadata": {},
   "outputs": [
    {
     "data": {
      "text/plain": [
       "datetime.time"
      ]
     },
     "execution_count": 12,
     "metadata": {},
     "output_type": "execute_result"
    }
   ],
   "source": [
    "type(railway_df['Time of Purchase'][0])"
   ]
  },
  {
   "cell_type": "code",
   "execution_count": 13,
   "metadata": {},
   "outputs": [
    {
     "data": {
      "text/plain": [
       "datetime.date"
      ]
     },
     "execution_count": 13,
     "metadata": {},
     "output_type": "execute_result"
    }
   ],
   "source": [
    "type(railway_df['Date of Journey'][0])"
   ]
  },
  {
   "cell_type": "markdown",
   "metadata": {},
   "source": [
    "#### **Steps to Handle Missing Values** ####"
   ]
  },
  {
   "cell_type": "markdown",
   "metadata": {},
   "source": [
    "##### **1. Identify Missing Values** #####"
   ]
  },
  {
   "cell_type": "code",
   "execution_count": 14,
   "metadata": {},
   "outputs": [
    {
     "data": {
      "text/plain": [
       "Transaction ID             0\n",
       "Date of Purchase           0\n",
       "Time of Purchase           0\n",
       "Purchase Type              0\n",
       "Payment Method             0\n",
       "Railcard               20918\n",
       "Ticket Class               0\n",
       "Ticket Type                0\n",
       "Price                      0\n",
       "Departure Station          0\n",
       "Arrival Destination        0\n",
       "Date of Journey            0\n",
       "Departure Time             0\n",
       "Arrival Time               0\n",
       "Actual Arrival Time     1880\n",
       "Journey Status             0\n",
       "Reason for Delay       27481\n",
       "Refund Request             0\n",
       "dtype: int64"
      ]
     },
     "execution_count": 14,
     "metadata": {},
     "output_type": "execute_result"
    }
   ],
   "source": [
    "railway_df.isna().sum()"
   ]
  },
  {
   "cell_type": "markdown",
   "metadata": {},
   "source": [
    "**The dataset contains over 20,000 null values**"
   ]
  },
  {
   "cell_type": "markdown",
   "metadata": {},
   "source": [
    "##### **2. Handling Values** #####"
   ]
  },
  {
   "cell_type": "markdown",
   "metadata": {},
   "source": [
    "**- \"Railway Card\":** These null values will be replaced with \"Unknown\" to ensure completeness.\n",
    "\n",
    "**- \"Reason for Delay:\"** All Null values will be replaced with \"No Delay\"\n",
    "\n",
    "**- \"Actual Arrival Time\":** All Null values will be replaced with \"unique time\"\n"
   ]
  },
  {
   "cell_type": "code",
   "execution_count": 16,
   "metadata": {},
   "outputs": [
    {
     "name": "stderr",
     "output_type": "stream",
     "text": [
      "C:\\Users\\sahar.hamdy\\AppData\\Local\\Temp\\ipykernel_18360\\350060914.py:2: FutureWarning: A value is trying to be set on a copy of a DataFrame or Series through chained assignment using an inplace method.\n",
      "The behavior will change in pandas 3.0. This inplace method will never work because the intermediate object on which we are setting values always behaves as a copy.\n",
      "\n",
      "For example, when doing 'df[col].method(value, inplace=True)', try using 'df.method({col: value}, inplace=True)' or df[col] = df[col].method(value) instead, to perform the operation inplace on the original object.\n",
      "\n",
      "\n",
      "  railway_df['Actual Arrival Time'].fillna('23:59:59', inplace=True)\n",
      "C:\\Users\\sahar.hamdy\\AppData\\Local\\Temp\\ipykernel_18360\\350060914.py:3: FutureWarning: A value is trying to be set on a copy of a DataFrame or Series through chained assignment using an inplace method.\n",
      "The behavior will change in pandas 3.0. This inplace method will never work because the intermediate object on which we are setting values always behaves as a copy.\n",
      "\n",
      "For example, when doing 'df[col].method(value, inplace=True)', try using 'df.method({col: value}, inplace=True)' or df[col] = df[col].method(value) instead, to perform the operation inplace on the original object.\n",
      "\n",
      "\n",
      "  railway_df['Railcard'].fillna('Unknown', inplace=True)\n",
      "C:\\Users\\sahar.hamdy\\AppData\\Local\\Temp\\ipykernel_18360\\350060914.py:4: FutureWarning: A value is trying to be set on a copy of a DataFrame or Series through chained assignment using an inplace method.\n",
      "The behavior will change in pandas 3.0. This inplace method will never work because the intermediate object on which we are setting values always behaves as a copy.\n",
      "\n",
      "For example, when doing 'df[col].method(value, inplace=True)', try using 'df.method({col: value}, inplace=True)' or df[col] = df[col].method(value) instead, to perform the operation inplace on the original object.\n",
      "\n",
      "\n",
      "  railway_df['Reason for Delay'].fillna(\"No Delay\", inplace=True)\n"
     ]
    }
   ],
   "source": [
    "# Fill Nulls\n",
    "railway_df['Actual Arrival Time'].fillna('23:59:59', inplace=True)\n",
    "railway_df['Railcard'].fillna('Unknown', inplace=True)\n",
    "railway_df['Reason for Delay'].fillna(\"No Delay\", inplace=True)"
   ]
  },
  {
   "cell_type": "markdown",
   "metadata": {},
   "source": [
    "**Insure Everything is Alright**"
   ]
  },
  {
   "cell_type": "code",
   "execution_count": 17,
   "metadata": {},
   "outputs": [
    {
     "data": {
      "text/plain": [
       "Transaction ID         0\n",
       "Date of Purchase       0\n",
       "Time of Purchase       0\n",
       "Purchase Type          0\n",
       "Payment Method         0\n",
       "Railcard               0\n",
       "Ticket Class           0\n",
       "Ticket Type            0\n",
       "Price                  0\n",
       "Departure Station      0\n",
       "Arrival Destination    0\n",
       "Date of Journey        0\n",
       "Departure Time         0\n",
       "Arrival Time           0\n",
       "Actual Arrival Time    0\n",
       "Journey Status         0\n",
       "Reason for Delay       0\n",
       "Refund Request         0\n",
       "dtype: int64"
      ]
     },
     "execution_count": 17,
     "metadata": {},
     "output_type": "execute_result"
    }
   ],
   "source": [
    "railway_df.isna().sum()"
   ]
  },
  {
   "cell_type": "code",
   "execution_count": 18,
   "metadata": {},
   "outputs": [
    {
     "data": {
      "text/plain": [
       "Reason for Delay\n",
       "No Delay              27481\n",
       "Weather                 995\n",
       "Technical Issue         707\n",
       "Signal Failure          523\n",
       "Signal failure          447\n",
       "Staffing                410\n",
       "Staff Shortage          399\n",
       "Weather Conditions      377\n",
       "Traffic                 314\n",
       "Name: count, dtype: int64"
      ]
     },
     "execution_count": 18,
     "metadata": {},
     "output_type": "execute_result"
    }
   ],
   "source": [
    "railway_df['Reason for Delay'].value_counts()"
   ]
  },
  {
   "cell_type": "markdown",
   "metadata": {},
   "source": [
    "#### **Standardizing Values in the \"Reason for Delay\" Column** ###"
   ]
  },
  {
   "cell_type": "markdown",
   "metadata": {},
   "source": [
    "**To maintain consistency in our dataset, we need to unify similar values under a single standardized term. This will prevent issues in analysis, such as incorrect groupings or duplicate categories.**\n",
    "\n",
    "**Corrections to be Made:**\n",
    "\n",
    "- \"Weather & Weather Conditions\" → \"Weather\"\n",
    "\n",
    "- \"Signal Failure & Signal failure\" → \"Signal Failure\" (Ensure consistent capitalization)\n",
    "\n",
    "- \"Staffing & Staff Shortage\" → \"Staff Shortage\""
   ]
  },
  {
   "cell_type": "code",
   "execution_count": 19,
   "metadata": {},
   "outputs": [],
   "source": [
    "# unify the reasons for delay\n",
    "railway_df['Reason for Delay'] = railway_df['Reason for Delay'].replace({'Weather & Weather Conditions': 'Weather',\n",
    "    'Signal failure': 'Signal Failure',\n",
    "    'Staffing': 'Staff Shortage'})"
   ]
  },
  {
   "cell_type": "code",
   "execution_count": 20,
   "metadata": {},
   "outputs": [
    {
     "data": {
      "text/plain": [
       "Reason for Delay\n",
       "No Delay              27481\n",
       "Weather                 995\n",
       "Signal Failure          970\n",
       "Staff Shortage          809\n",
       "Technical Issue         707\n",
       "Weather Conditions      377\n",
       "Traffic                 314\n",
       "Name: count, dtype: int64"
      ]
     },
     "execution_count": 20,
     "metadata": {},
     "output_type": "execute_result"
    }
   ],
   "source": [
    "railway_df['Reason for Delay'].value_counts()"
   ]
  },
  {
   "cell_type": "markdown",
   "metadata": {},
   "source": [
    "### **Display the Statistical Information of our Dataset**"
   ]
  },
  {
   "cell_type": "code",
   "execution_count": 21,
   "metadata": {},
   "outputs": [
    {
     "data": {
      "application/vnd.microsoft.datawrangler.viewer.v0+json": {
       "columns": [
        {
         "name": "index",
         "rawType": "object",
         "type": "string"
        },
        {
         "name": "Price",
         "rawType": "float64",
         "type": "float"
        }
       ],
       "conversionMethod": "pd.DataFrame",
       "ref": "16529c3b-751c-405b-82e9-44bb9e04cf40",
       "rows": [
        [
         "count",
         "31653.0"
        ],
        [
         "mean",
         "23.439200075822196"
        ],
        [
         "std",
         "29.997628408168463"
        ],
        [
         "min",
         "1.0"
        ],
        [
         "25%",
         "5.0"
        ],
        [
         "50%",
         "11.0"
        ],
        [
         "75%",
         "35.0"
        ],
        [
         "max",
         "267.0"
        ]
       ],
       "shape": {
        "columns": 1,
        "rows": 8
       }
      },
      "text/html": [
       "<div>\n",
       "<style scoped>\n",
       "    .dataframe tbody tr th:only-of-type {\n",
       "        vertical-align: middle;\n",
       "    }\n",
       "\n",
       "    .dataframe tbody tr th {\n",
       "        vertical-align: top;\n",
       "    }\n",
       "\n",
       "    .dataframe thead th {\n",
       "        text-align: right;\n",
       "    }\n",
       "</style>\n",
       "<table border=\"1\" class=\"dataframe\">\n",
       "  <thead>\n",
       "    <tr style=\"text-align: right;\">\n",
       "      <th></th>\n",
       "      <th>Price</th>\n",
       "    </tr>\n",
       "  </thead>\n",
       "  <tbody>\n",
       "    <tr>\n",
       "      <th>count</th>\n",
       "      <td>31653.000000</td>\n",
       "    </tr>\n",
       "    <tr>\n",
       "      <th>mean</th>\n",
       "      <td>23.439200</td>\n",
       "    </tr>\n",
       "    <tr>\n",
       "      <th>std</th>\n",
       "      <td>29.997628</td>\n",
       "    </tr>\n",
       "    <tr>\n",
       "      <th>min</th>\n",
       "      <td>1.000000</td>\n",
       "    </tr>\n",
       "    <tr>\n",
       "      <th>25%</th>\n",
       "      <td>5.000000</td>\n",
       "    </tr>\n",
       "    <tr>\n",
       "      <th>50%</th>\n",
       "      <td>11.000000</td>\n",
       "    </tr>\n",
       "    <tr>\n",
       "      <th>75%</th>\n",
       "      <td>35.000000</td>\n",
       "    </tr>\n",
       "    <tr>\n",
       "      <th>max</th>\n",
       "      <td>267.000000</td>\n",
       "    </tr>\n",
       "  </tbody>\n",
       "</table>\n",
       "</div>"
      ],
      "text/plain": [
       "              Price\n",
       "count  31653.000000\n",
       "mean      23.439200\n",
       "std       29.997628\n",
       "min        1.000000\n",
       "25%        5.000000\n",
       "50%       11.000000\n",
       "75%       35.000000\n",
       "max      267.000000"
      ]
     },
     "execution_count": 21,
     "metadata": {},
     "output_type": "execute_result"
    }
   ],
   "source": [
    "railway_df.describe()"
   ]
  },
  {
   "cell_type": "code",
   "execution_count": null,
   "metadata": {},
   "outputs": [
    {
     "data": {
      "text/plain": [
       "Journey Status\n",
       "On Time      27481\n",
       "Delayed       2292\n",
       "Cancelled     1880\n",
       "Name: count, dtype: int64"
      ]
     },
     "execution_count": 123,
     "metadata": {},
     "output_type": "execute_result"
    }
   ],
   "source": [
    "railway_df['Journey Status'].value_counts()"
   ]
  },
  {
   "cell_type": "markdown",
   "metadata": {},
   "source": [
    "### **Save the Changes we applied for Dataset for the next Stage** "
   ]
  },
  {
   "cell_type": "code",
   "execution_count": null,
   "metadata": {},
   "outputs": [],
   "source": [
    "railway_df.to_csv('railway_cleaned.csv', index=False)"
   ]
  }
 ],
 "metadata": {
  "kernelspec": {
   "display_name": "Python 3",
   "language": "python",
   "name": "python3"
  },
  "language_info": {
   "codemirror_mode": {
    "name": "ipython",
    "version": 3
   },
   "file_extension": ".py",
   "mimetype": "text/x-python",
   "name": "python",
   "nbconvert_exporter": "python",
   "pygments_lexer": "ipython3",
   "version": "3.13.0"
  }
 },
 "nbformat": 4,
 "nbformat_minor": 2
}
